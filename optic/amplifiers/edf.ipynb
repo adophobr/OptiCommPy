{
 "cells": [
  {
   "cell_type": "code",
   "execution_count": 1,
   "metadata": {},
   "outputs": [],
   "source": [
    "import os\n",
    "import numpy as np\n",
    "import matplotlib.pyplot as plt\n",
    "from scipy.constants import c\n",
    "\n",
    "from optic.core import parameters\n",
    "from optic.models import phaseNoise"
   ]
  },
  {
   "attachments": {},
   "cell_type": "markdown",
   "metadata": {},
   "source": [
    "## Giles class"
   ]
  },
  {
   "cell_type": "code",
   "execution_count": 2,
   "metadata": {},
   "outputs": [],
   "source": [
    "class giles:\n",
    "    def __init__(self, parameters):\n",
    "        self.file = getattr(parameters, \"file\", \"\")\n",
    "        if not (os.path.exists(self.file)):\n",
    "            raise TypeError(f\"{self.file} file doesn't exist.\")\n",
    "        self.type = getattr(parameters, \"type\", \"coeff\")\n",
    "        # set frequency\n",
    "        self.set_wavelength_from_file()\n",
    "        if (self.type=='coeff'):\n",
    "            self.set_coefficients_from_file()\n",
    "        elif (self.type=='cross'):\n",
    "            self.set_cross_section_from_file()\n",
    "        else:\n",
    "            raise TypeError(\"gile.type invalid argument - ['coeff', 'cross'].\")\n",
    "\n",
    "    def set_wavelength_from_file(self):\n",
    "        # Waiting wavelength in nm\n",
    "        self.wavelength = 1e-9*np.loadtxt(self.file)[:,0]\n",
    "    \n",
    "    def set_coefficients_from_file(self):\n",
    "        file_data = np.loadtxt(self.file)\n",
    "        self.absorption_coefficient  = 0.1 * np.log(10) * file_data[:,1]\n",
    "        self.gain_coefficient = 0.1 * np.log(10) * file_data[:,2]\n",
    "\n",
    "    def set_coefficients_from_cross_section(self, rho, gamma):\n",
    "        self.absorption_coefficient = self.absorption_cross * rho * gamma\n",
    "        self.gain_coefficient = self.emission_cross * rho * gamma\n",
    "\n",
    "    def set_cross_section_from_file(self):\n",
    "        file_data = np.loadtxt(self.file)\n",
    "        self.absorption_cross = file_data[:, 1]\n",
    "        self.emission_cross = file_data[:, 2]\n",
    "\n",
    "    def set_cross_section_from_coefficients(self, rho, gamma):\n",
    "         self.absorption_cross = self.absorption_coefficient / rho / gamma\n",
    "         self.emission_cross = self.gain_coefficient / rho / gamma\n",
    "\n",
    "    def plot(self,type):\n",
    "        if (type=='coeff'):\n",
    "            plt.plot(1e9*self.wavelength, self.absorption_coefficient, label='Abs. coeff.')\n",
    "            plt.plot(1e9*self.wavelength, self.gain_coefficient, label='Gain coeff.')\n",
    "            plt.ylabel('EDF coeff. [dB/m]')\n",
    "        elif (type=='cross'):\n",
    "            plt.plot(1e9*self.wavelength, 1e25*self.absorption_cross, label='Abs. cross-section')\n",
    "            plt.plot(1e9*self.wavelength, 1e25*self.emission_cross, label='Em. cross-section')\n",
    "            plt.ylabel(r'Cross-section [10$^{-25}$ m$^2$]')\n",
    "        else:\n",
    "            raise TypeError(\"type invalid argument - ['coeff', 'cross'].\")\n",
    "\n",
    "        plt.xlabel('Wavelenght [nm]')\n",
    "        plt.grid(True)\n",
    "        plt.legend()    "
   ]
  },
  {
   "attachments": {},
   "cell_type": "markdown",
   "metadata": {},
   "source": [
    "**Example**"
   ]
  },
  {
   "cell_type": "code",
   "execution_count": 3,
   "metadata": {},
   "outputs": [],
   "source": [
    "import os.path as path\n",
    "\n",
    "param_giles = parameters()\n",
    "param_giles.file = 'giles_MP980.dat'\n",
    "param_giles.file = path.join(path.abspath(path.join(\"../\")), 'optic', 'ampParams', param_giles.file)"
   ]
  },
  {
   "cell_type": "code",
   "execution_count": 4,
   "metadata": {},
   "outputs": [
    {
     "data": {
      "image/png": "[encoded data removed]",
      "text/plain": [
       "<Figure size 432x288 with 1 Axes>"
      ]
     },
     "metadata": {
      "needs_background": "light"
     },
     "output_type": "display_data"
    }
   ],
   "source": [
    "edf_giles = giles(param_giles)\n",
    "edf_giles.plot('coeff')"
   ]
  },
  {
   "attachments": {},
   "cell_type": "markdown",
   "metadata": {},
   "source": [
    "## Fiber Class"
   ]
  },
  {
   "cell_type": "code",
   "execution_count": null,
   "metadata": {},
   "outputs": [],
   "source": [
    "from scipy.special import jv, kv\n",
    "import numpy.typing as npt\n",
    "\n",
    "def silica_index(wavelength: npt.ArrayLike) -> npt.ArrayLike:\n",
    "    return np.sqrt((1 + 0.6961663 / (1 - (0.0684043 / wavelength) ** 2) + \n",
    "            0.4079426 / (1 - (0.1162414 / wavelength) ** 2) + \n",
    "            0.8974794 / (1 - (9.896161 / wavelength) ** 2)))\n",
    "\n",
    "def core_index(wavelength: npt.ArrayLike,\n",
    "               na: float) -> npt.ArrayLike:\n",
    "    return np.sqrt(silica_index(wavelength) ** 2 + na ** 2)\n",
    "\n",
    "def v_parameter(radius: float,\n",
    "                na: float,\n",
    "                wavelength: npt.ArrayLike) -> npt.ArrayLike:\n",
    "    return (2 * np.pi / wavelength) * radius * na\n",
    "\n",
    "def u_parameter(radius: float,\n",
    "                na: float,\n",
    "                wavelength: npt.ArrayLike,\n",
    "                eff_rindex: npt.ArrayLike,\n",
    "                core_index_function = core_index) -> npt.ArrayLike:\n",
    "    core_rindex = core_index_function(wavelength, na)\n",
    "    return (2 * np.pi / wavelength) * radius * np.sqrt(core_rindex**2 - eff_rindex**2)\n",
    "\n",
    "def w_parameter(radius: float,\n",
    "                wavelength: npt.ArrayLike,\n",
    "                eff_rindex: npt.ArrayLike,\n",
    "                clad_index_function = silica_index) -> npt.ArrayLike:\n",
    "    clad_rindex = clad_index_function(wavelength)\n",
    "    return (2 * np.pi / wavelength) * radius * np.sqrt(eff_rindex**2 - clad_rindex**2)\n",
    "\n",
    "class fiber():\n",
    "    def __init__(self, parameter):\n",
    "        # init geometric and material parameters\n",
    "        self.radius = getattr(parameter, \"radius\", 1.56e-6)\n",
    "        self.length = getattr(parameter, \"length\", 8)\n",
    "        self.na = getattr(parameter, \"na\", 0.22)"
   ]
  },
  {
   "attachments": {},
   "cell_type": "markdown",
   "metadata": {},
   "source": [
    "## Mode class"
   ]
  },
  {
   "cell_type": "code",
   "execution_count": 20,
   "metadata": {},
   "outputs": [
    {
     "data": {
      "text/plain": [
       "array([[ 3.83170597,  7.01558667, 10.17346814, 13.32369194, 16.47063005],\n",
       "       [ 3.83170597,  7.01558667, 10.17346814, 13.32369194, 16.47063005],\n",
       "       [ 3.83170597,  7.01558667, 10.17346814, 13.32369194, 16.47063005]])"
      ]
     },
     "execution_count": 20,
     "metadata": {},
     "output_type": "execute_result"
    }
   ],
   "source": [
    "import numpy as np\n",
    "np.vstack(tuple(jn_zeros(1, 2 + 3) for l in range(2 + 1)))"
   ]
  },
  {
   "cell_type": "code",
   "execution_count": 214,
   "metadata": {},
   "outputs": [
    {
     "name": "stdout",
     "output_type": "stream",
     "text": [
      "[12.69459889  8.02626252]\n",
      "[[ 0.          1.          0.          2.40482556  0.96892424  0.92849286]\n",
      " [ 0.          2.          3.83170597  5.52007811  0.84260103  0.64340725]\n",
      " [ 0.          3.          7.01558667  8.65372791  0.609979    0.14704893]\n",
      " [ 1.          1.          2.40482556  3.83170597  0.91935899  0.81628059]\n",
      " [ 1.          2.          5.52007811  7.01558667  0.73724133  0.41115059]\n",
      " [ 1.          3.          8.65372791 10.17346814  0.4564562          nan]\n",
      " [ 2.          1.          3.83170597  5.1356223   0.85711307  0.67551176]\n",
      " [ 2.          2.          7.01558667  8.41724414  0.62357113  0.17135253]\n",
      " [ 2.          3.         10.17346814 11.61984117  0.29656046         nan]\n",
      " [ 3.          1.          5.1356223   6.3801619   0.78153298  0.5059117 ]\n",
      " [ 3.          2.          8.41724414  9.76102313  0.4971281  -0.05901382]\n",
      " [ 3.          3.         11.61984117 13.01520072  0.12889106         nan]]\n"
     ]
    },
    {
     "name": "stderr",
     "output_type": "stream",
     "text": [
      "C:\\Users\\Adolfo\\AppData\\Local\\Temp\\ipykernel_8236\\1743720135.py:94: RuntimeWarning: invalid value encountered in arcsin\n",
      "  return 1 - (Uc / v) ** 2 * np.exp(2 / S * (np.arcsin(S / Uc) - np.arcsin(S / v)))\n"
     ]
    }
   ],
   "source": [
    "from scipy.special import jn_zeros\n",
    "import numpy as np\n",
    "import numpy.typing as npt\n",
    "\n",
    "class fiber_mode():\n",
    "    def __init__(self, \n",
    "                 l_max:float=2, \n",
    "                 m_max:float=2,\n",
    "                 radius:float=1.56e-6, \n",
    "                 na:float=0.22, \n",
    "                 wavelength:npt.ArrayLike) -> npt.ArrayLike:\n",
    "        mode_solver = solver_mode(l_max,m_max)\n",
    "\n",
    "    @property\n",
    "    def propagation_constant(self):\n",
    "        mode_solver = solver_mode()\n",
    "        return None\n",
    "\n",
    "    @property\n",
    "    def norm_prop_constat(self):\n",
    "        return None\n",
    "    \n",
    "    @property\n",
    "    def effective_index(self):\n",
    "        return None\n",
    "    \n",
    "    @property\n",
    "    def phase_velocity(self):\n",
    "        return None\n",
    "    \n",
    "    @property\n",
    "    def group_velocity(self):\n",
    "        return None\n",
    "    \n",
    "    @property\n",
    "    def dispersion(self):\n",
    "        return None\n",
    "    \n",
    "    @property\n",
    "    def confinement_factor(self):\n",
    "        return None\n",
    "\n",
    "    def field_intensity(self):\n",
    "        return None\n",
    "    \n",
    "    def plot_field(self):\n",
    "        return None\n",
    "    \n",
    "def v_parameter(radius: float,\n",
    "                na: float,\n",
    "                wavelength: npt.ArrayLike) -> npt.ArrayLike:\n",
    "    return (2 * np.pi / wavelength) * radius * na\n",
    "    \n",
    "class solver_mode():\n",
    "    \"\"\"\n",
    "    Considering LP (lineary polarized) modes in weakly guiding cylindrical step-index fiber.\n",
    "    \"\"\"\n",
    "    def __init__(self, \n",
    "                lmax:int,\n",
    "                mmax:int) -> None:\n",
    "        self.l = lmax\n",
    "        self.m = mmax\n",
    "\n",
    "    def table_modes(self) -> None:\n",
    "        table = np.zeros([(self.l)*self.m,4])        \n",
    "        lower = np.zeros([self.l,self.m])\n",
    "        for l in range(self.l):\n",
    "            table[l*self.m:(l+1)*self.m,0] = l\n",
    "            if (l!=0):\n",
    "                table[l*self.m:(l+1)*self.m,-2] = jn_zeros(l-1, self.m)\n",
    "            else:\n",
    "                table[1+l*self.m:(l+1)*self.m,-2] = jn_zeros(1, self.m-1)\n",
    "            table[l*self.m:(l+1)*self.m,-1] = jn_zeros(l, self.m)\n",
    "        table[:,1] = 1+np.tile(np.arange(self.m),self.l)       \n",
    "        self.table = table\n",
    "\n",
    "    def solve_modes(self, \n",
    "                    radius:float, \n",
    "                    na:float, \n",
    "                    wavelength:npt.ArrayLike) -> npt.ArrayLike:\n",
    "        v = v_parameter(radius,na,wavelength)\n",
    "        b = np.zeros([self.l,self.m,len(v)])\n",
    "        for l in range(self.l):\n",
    "            for m in range(self.m):\n",
    "                if (l == 0) and (m == 0):\n",
    "                    b[l,m,:] = self.solve_he11(v)\n",
    "                else:\n",
    "                    b[l,m,:] = self.solve_higher_modes(l, m, v)\n",
    "        return b\n",
    "\n",
    "    def solve_he11(self, \n",
    "                   v:npt.ArrayLike) -> npt.ArrayLike:\n",
    "        return 1 - ((1 + np.sqrt(2)) / (1 + (4 + v ** 4) ** 0.25)) ** 2\n",
    "    \n",
    "    def solve_higher_modes(self, \n",
    "                        l:float,\n",
    "                        m:float,\n",
    "                        v:npt.ArrayLike) -> npt.ArrayLike:\n",
    "        A = np.pi * ((m+1) + 0.5 * (l - 1) - 0.25)\n",
    "        B = 4 * (l - 1) ** 2\n",
    "        Uc = A - (B - 1) / (8 * A) - (4 * (B - 1) * (7 * B - 31)) / (3 * (8 * A) ** 3)\n",
    "        S = np.sqrt(Uc ** 2 - l ** 2 - 1)\n",
    "        return 1 - (Uc / v) ** 2 * np.exp(2 / S * (np.arcsin(S / Uc) - np.arcsin(S / v)))\n",
    "\n",
    "if __name__ == '__main__':\n",
    "    l_max = 4\n",
    "    m_max = 3\n",
    "    wavelength = np.array([980e-9, 1550e-9])\n",
    "    mode = solver_mode(l_max,m_max)\n",
    "    mode.table_modes()\n",
    "    print(v_parameter(radius=9e-6,na=0.22,wavelength=wavelength))\n",
    "    b = mode.solve_modes(radius=9e-6,na=0.22,wavelength=wavelength)    \n",
    "    print(np.hstack((mode.table,b.reshape(l_max*m_max,len(wavelength)))))"
   ]
  },
  {
   "cell_type": "code",
   "execution_count": null,
   "metadata": {},
   "outputs": [],
   "source": [
    "\n",
    "\n",
    "def set_u_modal_parameter(self, wavelength):\n",
    "        v_parameter = self.set_v_parameter(self, wavelength)\n",
    "        return ((1 + np.sqrt(2)) * v_parameter) / (1 + (4 + v_parameter ** 4) ** 0.25)\n",
    "\n",
    "    def set_w_modal_parameter(self):\n",
    "        return np.sqrt(v_parameter ** 2 - u_parameter ** 2)\n",
    "\n",
    "@staticmethod\n",
    "    def mode_radius_profile_bessel(v_parameter, u_parameter, radius):\n",
    "        w_parameter = fiber.fiber_w_modal_parameter(v_parameter, u_parameter)\n",
    "        return radius * v_parameter / u_parameter * kv(1, w_parameter) / kv(0, w_parameter) * jv(0, u_parameter)\n",
    "    \n",
    "    @staticmethod\n",
    "    def mode_radius_profile_marcuse(v_parameter, radius):\n",
    "        return radius * (0.650 + 1.619 / v_parameter ** 1.5 + 2.879 / v_parameter ** 6)\n",
    "    \n",
    "    @staticmethod\n",
    "    def mode_radius_profile_whitley(v_parameter, radius):\n",
    "        return radius * (0.616 + 1.660 / v_parameter ** 1.5 + 0.987 / v_parameter ** 6)\n",
    "    \n",
    "    @staticmethod\n",
    "    def mode_radius_profile_desurvire(v_parameter, radius):\n",
    "        return radius * (0.759 + 1.289 / v_parameter ** 1.5 + 1.041 / v_parameter ** 6)\n",
    "    \n",
    "    @staticmethod\n",
    "    def mode_radius_profile_myslinski(v_parameter, radius):\n",
    "        return radius * (0.761 + 1.237 / v_parameter ** 1.5 + 1.429 / v_parameter ** 6)\n",
    "\n",
    "        self.mode_field_model = getattr(parameter, \"mode_field_model\", \"desurvire\")\n",
    "\n",
    "    def get_mode_radius(self):\n",
    "        return eval(f'mode_radius_profile_{self.mode_field_model}')\n",
    "    \n",
    "    def set_gamma(self):\n",
    "        if (self.geometric == 'LP01'):\n",
    "            self.gamma = (((self.v * self.b) / (self.a * self.V * jv(1, self.u))) ** 2) * (jv(0, self.u * self.b / self.a) ** 2 + jv(1, self.u * self.b / self.a) ** 2)\n",
    "        else:\n",
    "            self.gamma = 1 - np.exp(-2 * (self.b / self.w_gauss) ** 2)\n",
    "\n",
    "    # Call only if self.algorithm == \"Giles_spatial\"\n",
    "    def set_ik(self):\n",
    "        if (self.geometric == 'LP01'):\n",
    "            i_k = (lambda r: 1/np.pi*(self.v/(self.a*self.V)*jv(0, self.u*self.r/self.a)/jv(1, self.u))**2)\n",
    "        else:\n",
    "            i_k = lambda r: 2 / (np.pi * self.w_gauss ** 2) * np.exp(-2 * (self.r / self.w_gauss) ** 2)\n",
    "        self.i_k = [i_k(x) for x in self.r]"
   ]
  },
  {
   "attachments": {},
   "cell_type": "markdown",
   "metadata": {},
   "source": [
    "## Doped Fiber Class"
   ]
  },
  {
   "cell_type": "code",
   "execution_count": null,
   "metadata": {},
   "outputs": [],
   "source": [
    "        # init algorithm parameters\n",
    "        self.geometric = getattr(parameter, \"geometric\", \"Bessel\")\n",
    "        self.algorithm = getattr(parameter, \"algorithm\", \"Giles_spectrum\")\n",
    "        \n",
    "\n",
    "        if self.algorithm not in (\n",
    "        \"Giles_spatial\",\n",
    "        \"Giles_spectrum\",\n",
    "        \"Saleh\",\n",
    "        \"Jopson\",\n",
    "        \"Inhomogeneous\",\n",
    "        ):\n",
    "            raise TypeError(\n",
    "                \"edfaSM.algo invalid argument - [Giles_spatial, Giles_spectrum, Saleh, Jopson, Inhomogeneous].\"\n",
    "                )\n",
    "\n",
    "        try:\n",
    "            self.set_cross_section_from_coefficients(self.rho, self.gamma)\n",
    "        except Exception:\n",
    "            self.set_coefficients_from_cross_section(self.rho, self.gamma)\n",
    "        if (self.algorithm == 'Giles_spatial'):\n",
    "            self.set_ik()\n",
    "\n",
    "        self.set_radius()\n",
    "        self.set_modal_parameters()\n",
    "        if (self.geometric != 'LP01'):\n",
    "            self.set_mode_radius()\n",
    "        self.set_gamma()\n",
    "\n",
    "        # init signal and pump loss paramters\n",
    "        self.loss_signal = getattr(parameter, \"loss_signal\", 2.08 * 0.0001 * np.log10(10))\n",
    "        self.loss_pump = getattr(parameter, \"loss_pump\", 2.08 * 0.0001 * np.log10(10))"
   ]
  },
  {
   "cell_type": "code",
   "execution_count": 5,
   "metadata": {},
   "outputs": [],
   "source": [
    "from scipy.special import jv, kv\n",
    "class dopedFiber():\n",
    "    def __init__(self,parameter):\n",
    "        # init geometric and material parameters\n",
    "        self.a = getattr(parameter, \"a\", 1.56e-6)\n",
    "        self.b = getattr(parameter, \"b\", 1.56e-6)\n",
    "        self.length = getattr(parameter, \"length\", 8)\n",
    "        self.rho = getattr(parameter, \"rho\", 0.955e25)\n",
    "        self.na = getattr(parameter, \"na\", 0.22)\n",
    "        # init physical paramters\n",
    "        self.tal = getattr(parameter, \"tal\", 10e-3)\n",
    "        # algorithm parameter\n",
    "        self.longitudinal_steps = getattr(parameter, \"longitudinal_steps\", 100)\n",
    "\n",
    "    def set_radius(self):\n",
    "        # Logitudinal step\n",
    "        self.dr = self.a / self.longitudinal_steps\n",
    "        self.r  = np.arange(0, self.a, self.dr)\n",
    "   \n",
    "    def set_gamma(self):\n",
    "        if (self.geometric == 'LP01'):\n",
    "            self.gamma = (((self.v * self.b) / (self.a * self.V * jv(1, self.u))) ** 2) * (jv(0, self.u * self.b / self.a) ** 2 + jv(1, self.u * self.b / self.a) ** 2)\n",
    "        else:\n",
    "            self.gamma = 1 - np.exp(-2 * (self.b / self.w_gauss) ** 2)\n",
    "\n",
    "    # Call only if self.algorithm == \"Giles_spatial\"\n",
    "    def set_ik(self):\n",
    "        if (self.geometric == 'LP01'):\n",
    "            i_k = (lambda r: 1/np.pi*(self.v/(self.a*self.V)*jv(0, self.u*self.r/self.a)/jv(1, self.u))**2)\n",
    "        else:\n",
    "            i_k = lambda r: 2 / (np.pi * self.w_gauss ** 2) * np.exp(-2 * (self.r / self.w_gauss) ** 2)\n",
    "        self.i_k = [i_k(x) for x in self.r]"
   ]
  },
  {
   "attachments": {},
   "cell_type": "markdown",
   "metadata": {},
   "source": [
    "**Example**"
   ]
  },
  {
   "cell_type": "code",
   "execution_count": 6,
   "metadata": {},
   "outputs": [
    {
     "data": {
      "image/png": "[encoded data removed]",
      "text/plain": [
       "<Figure size 432x288 with 1 Axes>"
      ]
     },
     "metadata": {
      "needs_background": "light"
     },
     "output_type": "display_data"
    }
   ],
   "source": [
    "param_edf = parameters()\n",
    "param_edf.giles = param_giles\n",
    "edf_fiber = edf(param_edf)\n",
    "edf_fiber.plot('coeff')"
   ]
  },
  {
   "cell_type": "code",
   "execution_count": 7,
   "metadata": {},
   "outputs": [
    {
     "data": {
      "image/png": "[encoded data removed]",
      "text/plain": [
       "<Figure size 432x288 with 1 Axes>"
      ]
     },
     "metadata": {
      "needs_background": "light"
     },
     "output_type": "display_data"
    }
   ],
   "source": [
    "edf_fiber.plot('cross')"
   ]
  },
  {
   "cell_type": "code",
   "execution_count": 8,
   "metadata": {},
   "outputs": [
    {
     "data": {
      "image/png": "[encoded data removed]",
      "text/plain": [
       "<Figure size 864x432 with 2 Axes>"
      ]
     },
     "metadata": {
      "needs_background": "light"
     },
     "output_type": "display_data"
    }
   ],
   "source": [
    "fig, ax = plt.subplots(1,2,figsize=(12,6))\n",
    "ax[0].plot(1e9*edf_fiber.wavelength, edf_fiber.V, '.')\n",
    "ax[0].set_xlabel('Wavelength [nm]')\n",
    "ax[0].set_ylabel(r'Norm. frequency - $V$')\n",
    "ax[0].grid(True)\n",
    "\n",
    "ax[1].plot(1e9*edf_fiber.wavelength, edf_fiber.u, '.', label = r'modal $u$')\n",
    "ax[1].plot(1e9*edf_fiber.wavelength, edf_fiber.v, '.', label = r'modal $v$')\n",
    "ax[1].set_xlabel('Wavelength [nm]')\n",
    "ax[1].set_ylabel('Modal paramter')\n",
    "ax[1].grid(True)"
   ]
  },
  {
   "cell_type": "code",
   "execution_count": 9,
   "metadata": {},
   "outputs": [
    {
     "data": {
      "image/png": "[encoded data removed]",
      "text/plain": [
       "<Figure size 864x432 with 2 Axes>"
      ]
     },
     "metadata": {
      "needs_background": "light"
     },
     "output_type": "display_data"
    }
   ],
   "source": [
    "fig, ax = plt.subplots(1,2,figsize=(12,6))\n",
    "ax[0].plot(1e9*edf_fiber.wavelength, 1e6*edf_fiber.w_gauss, '.')\n",
    "ax[0].set_xlabel('Wavelength [nm]')\n",
    "ax[0].set_ylabel('Modal radius [um]')\n",
    "ax[0].grid(True)\n",
    "\n",
    "ax[1].plot(1e9*edf_fiber.wavelength, edf_fiber.gamma, '.')\n",
    "ax[1].set_xlabel('Wavelength [nm]')\n",
    "ax[1].set_ylabel('Gamma')\n",
    "ax[1].grid(True)"
   ]
  },
  {
   "attachments": {},
   "cell_type": "markdown",
   "metadata": {},
   "source": [
    "## Signal class"
   ]
  },
  {
   "cell_type": "code",
   "execution_count": 10,
   "metadata": {},
   "outputs": [],
   "source": [
    "from numpy.fft import fft, ifft, fftfreq\n",
    "\n",
    "class signal():\n",
    "    def __init__(self, signal, Fs:float, Fc:float):\n",
    "        self.Fs = Fs\n",
    "        self.Fc = Fc\n",
    "        _,self.isy = np.shape(signal)\n",
    "        if (self.isy==1):\n",
    "            signal = np.concatenate((signal, np.zeros(np.shape(signal))), axis=1)\n",
    "            self.isy+=1\n",
    "        self.set_frequency(signal)      \n",
    "        self.set_spectrum(signal)\n",
    "\n",
    "    def set_frequency(self, signal):\n",
    "        self.frequency = self.Fs * fftfreq(len(signal)) + self.Fc\n",
    "    \n",
    "    def set_spectrum(self, signal):\n",
    "        self.spectrum = fft(signal, axis = 0)\n",
    "\n",
    "    def get_frequency_hz(self):\n",
    "        return self.frequency\n",
    "    \n",
    "    def get_frequency_m(self):\n",
    "        return c/self.frequency\n",
    "    \n",
    "    def get_spectrum_w(self):\n",
    "        return np.reshape(\n",
    "            np.abs(self.spectrum / len(self.frequency)) ** 2, \n",
    "            (self.isy * len(self.frequency)), order=\"F\"\n",
    "        ) \n",
    "    \n",
    "    def get_spectrum_dBm(self):\n",
    "        return 10*np.log10(1e3*self.get_spectrum_w())\n",
    "\n",
    "    def plot(self):\n",
    "        plt.plot(1e9*self.get_frequency_m(), \n",
    "                 self.get_spectrum_dBm()[:len(self)],\n",
    "                 label = 'Pol. X',\n",
    "                 lw = 2,\n",
    "                 )\n",
    "        plt.plot(1e9*self.get_frequency_m(), \n",
    "                 self.get_spectrum_dBm()[len(self):],\n",
    "                 label = 'Pol. Y',\n",
    "                 lw = 2,\n",
    "                 alpha=0.5,\n",
    "                 )\n",
    "        plt.xlabel('Wavelength [nm]')\n",
    "        plt.ylabel('Power [dBm]')\n",
    "        plt.legend()\n",
    "        plt.grid(True)\n",
    "\n",
    "    def __len__(self) -> int:\n",
    "        return len(self.frequency)"
   ]
  },
  {
   "attachments": {},
   "cell_type": "markdown",
   "metadata": {},
   "source": [
    "**Example**"
   ]
  },
  {
   "cell_type": "code",
   "execution_count": 11,
   "metadata": {},
   "outputs": [],
   "source": [
    "# Transmitter parameters:\n",
    "paramTx = parameters()\n",
    "paramTx.NSb = 2**10          # number os symbols\n",
    "paramTx.SpS = 256            # samples per symbol\n",
    "paramTx.Rs  = 30e9           # symbol rate\n",
    "paramTx.lw  = 1e6            # laser linewidth\n",
    "paramTx.Nch = 2              # number of channels\n",
    "paramTx.Nmodes   = 1         # number of modes\n",
    "paramTx.Pch_dBm  = -40       # channel power\n",
    "paramTx.freqSpac = 2.5e12    # channel bandwith\n",
    "paramTx.Fc       = c/1540e-9 # central frequency"
   ]
  },
  {
   "cell_type": "code",
   "execution_count": 12,
   "metadata": {},
   "outputs": [],
   "source": [
    "# CW signal with two optical channels: 1530 and 1550 nm.\n",
    "t = np.arange(0, paramTx.NSb * paramTx.SpS)\n",
    "Fs = paramTx.Rs*paramTx.SpS\n",
    "\n",
    "# central frequencies of the WDM channels\n",
    "freqGrid = (\n",
    "    np.arange(-np.floor(paramTx.Nch / 2), np.floor(paramTx.Nch / 2) + 1, 1)\n",
    "    * paramTx.freqSpac\n",
    ")\n",
    "if (paramTx.Nch % 2) == 0:\n",
    "    freqGrid += paramTx.freqSpac / 2\n",
    "# linear power\n",
    "power_lin = 10**((paramTx.Pch_dBm)/10 - 3)\n",
    "# comb generation\n",
    "sigTxWDM = np.zeros((len(t), paramTx.Nmodes), dtype=\"complex\")\n",
    "for indCh in range(paramTx.Nch):\n",
    "    for indMode in range(paramTx.Nmodes):\n",
    "        pho_pn_lo = phaseNoise(paramTx.lw, len(t), 1/Fs)\n",
    "        sigLO   = np.sqrt(power_lin)*np.exp(1j*pho_pn_lo)\n",
    "        sigTxWDM[:, indMode] += sigLO * np.exp(1j * 2 * np.pi * (freqGrid[indCh] / Fs) * t)"
   ]
  },
  {
   "cell_type": "code",
   "execution_count": 13,
   "metadata": {},
   "outputs": [
    {
     "name": "stderr",
     "output_type": "stream",
     "text": [
      "C:\\Users\\Adolfo\\AppData\\Local\\Temp\\ipykernel_10452\\1360280182.py:33: RuntimeWarning: divide by zero encountered in log10\n",
      "  return 10*np.log10(1e3*self.get_spectrum_w())\n"
     ]
    },
    {
     "data": {
      "image/png": "[encoded data removed]",
      "text/plain": [
       "<Figure size 432x288 with 1 Axes>"
      ]
     },
     "metadata": {
      "needs_background": "light"
     },
     "output_type": "display_data"
    }
   ],
   "source": [
    "signal_tx = signal(sigTxWDM, Fs, paramTx.Fc)\n",
    "signal_tx.plot()"
   ]
  },
  {
   "attachments": {},
   "cell_type": "markdown",
   "metadata": {},
   "source": [
    "## Pump class"
   ]
  },
  {
   "cell_type": "code",
   "execution_count": 14,
   "metadata": {},
   "outputs": [],
   "source": [
    "class pump():\n",
    "    def __init__(self, parameter):\n",
    "        # pump parameters\n",
    "        self.direction = getattr(parameter, 'direction', 'forward')\n",
    "        self.pump_power = getattr(parameter, 'power', np.array([100e-3]))\n",
    "        self.pump_frequency = c/getattr(parameter, 'wavelength', np.array([980e-9]))\n",
    "        if (len(self.pump_power)!=len(self.pump_frequency)):\n",
    "            raise TypeError(\"pump object: invalid length.\")\n",
    "        \n",
    "    def __len__(self) -> int:\n",
    "        return len(self.pump_frequency)\n",
    "    \n",
    "    def __str__(self) -> str:\n",
    "        return f'\\n## Pump\\ntype: {self.direction} \\npower {self.pump_power} W\\nfrequency {self.pump_frequency} Hz\\nwavelength {c/self.pump_frequency} m'"
   ]
  },
  {
   "attachments": {},
   "cell_type": "markdown",
   "metadata": {},
   "source": [
    "**Example**"
   ]
  },
  {
   "cell_type": "code",
   "execution_count": 15,
   "metadata": {},
   "outputs": [
    {
     "name": "stdout",
     "output_type": "stream",
     "text": [
      "\n",
      "## Pump\n",
      "type: forward \n",
      "power [0.1] W\n",
      "frequency [3.05910671e+14] Hz\n",
      "wavelength [9.8e-07] m\n"
     ]
    }
   ],
   "source": [
    "forward_pump = parameters()\n",
    "pumpF = pump(forward_pump)\n",
    "print(pumpF)"
   ]
  },
  {
   "cell_type": "code",
   "execution_count": 16,
   "metadata": {},
   "outputs": [
    {
     "name": "stdout",
     "output_type": "stream",
     "text": [
      "\n",
      "## Pump\n",
      "type: forward \n",
      "power [0.1  0.15] W\n",
      "frequency [3.05910671e+14 3.07164404e+14] Hz\n",
      "wavelength [9.80e-07 9.76e-07] m\n"
     ]
    }
   ],
   "source": [
    "forward_pump = parameters()\n",
    "forward_pump.power = np.array([100e-3, 150e-3])\n",
    "forward_pump.wavelength = np.array([980e-9, 976e-9])\n",
    "pumpF = pump(forward_pump)\n",
    "print(pumpF)"
   ]
  },
  {
   "cell_type": "code",
   "execution_count": 17,
   "metadata": {},
   "outputs": [
    {
     "name": "stdout",
     "output_type": "stream",
     "text": [
      "\n",
      "## Pump\n",
      "type: backward \n",
      "power [0.1] W\n",
      "frequency [3.05910671e+14] Hz\n",
      "wavelength [9.8e-07] m\n"
     ]
    }
   ],
   "source": [
    "backward_pump = parameters()\n",
    "backward_pump.direction = 'backward'\n",
    "pumpB = pump(backward_pump)\n",
    "print(pumpB)"
   ]
  },
  {
   "attachments": {},
   "cell_type": "markdown",
   "metadata": {},
   "source": [
    "## Control class"
   ]
  },
  {
   "cell_type": "code",
   "execution_count": 18,
   "metadata": {},
   "outputs": [],
   "source": [
    "class control():\n",
    "    def __init__(self, parameter):\n",
    "        # controller parameters\n",
    "        self.kp = getattr(parameter, \"kp\", 1e-2)\n",
    "        self.ki = getattr(parameter, \"ki\", 1e-2)\n",
    "        self.kd = getattr(parameter, \"kd\", 5e-2)\n",
    "        # setpoint and control type\n",
    "        self.mode = getattr(parameter, \"mode\", \"AGC\")\n",
    "        if self.mode in {\"AGC\", \"APC\", \"none\"}:\n",
    "            self.setpoint = getattr(parameter, \"setpoint\", 20)  # dB (for gain) and dBm (for power)\n",
    "        else:\n",
    "            raise TypeError(\"control.type invalid argument - [AGC, APC, none].\")\n",
    "        \n",
    "    def __str__(self)->str:\n",
    "        return f'\\n## Control\\nmode: {self.mode}\\nset-point: {self.setpoint}\\nkp parameter: {self.kp}\\nkd parameter: {self.kd}\\nki parameter: {self.ki}'"
   ]
  },
  {
   "attachments": {},
   "cell_type": "markdown",
   "metadata": {},
   "source": [
    "**Example**"
   ]
  },
  {
   "cell_type": "code",
   "execution_count": 19,
   "metadata": {},
   "outputs": [
    {
     "name": "stdout",
     "output_type": "stream",
     "text": [
      "\n",
      "## Control\n",
      "mode: AGC\n",
      "set-point: 20\n",
      "kp parameter: 0.01\n",
      "kd parameter: 0.05\n",
      "ki parameter: 0.01\n"
     ]
    }
   ],
   "source": [
    "control_parameters = parameters()\n",
    "control_obj = control(control_parameters)\n",
    "print(control_obj)"
   ]
  },
  {
   "attachments": {},
   "cell_type": "markdown",
   "metadata": {},
   "source": [
    "## Solver class"
   ]
  },
  {
   "cell_type": "code",
   "execution_count": 20,
   "metadata": {},
   "outputs": [],
   "source": [
    "class solver():\n",
    "    def __init__(self, parameter):\n",
    "        # solver error\n",
    "        self.tol = getattr(parameter, \"tol\", 2 / 100)\n",
    "        self.tolCtrl = getattr(parameter, \"tolCtrl\", 0.5)     \n",
    "\n",
    "    def __str__(self)->str:\n",
    "        return f'\\n## Solver\\ntol: {self.tol}\\ntolCtrl: {self.tolCtrl}'"
   ]
  },
  {
   "attachments": {},
   "cell_type": "markdown",
   "metadata": {},
   "source": [
    "**Example**"
   ]
  },
  {
   "cell_type": "code",
   "execution_count": 21,
   "metadata": {},
   "outputs": [
    {
     "name": "stdout",
     "output_type": "stream",
     "text": [
      "\n",
      "## Solver\n",
      "tol: 0.02\n",
      "tolCtrl: 0.5\n"
     ]
    }
   ],
   "source": [
    "solver_parameters= parameters()\n",
    "solver_obj = solver(solver_parameters)\n",
    "print(solver_obj)"
   ]
  },
  {
   "attachments": {},
   "cell_type": "markdown",
   "metadata": {},
   "source": [
    "## Noise class"
   ]
  },
  {
   "cell_type": "code",
   "execution_count": 22,
   "metadata": {},
   "outputs": [],
   "source": [
    "class noise():\n",
    "    def __init__(self, parameters):\n",
    "        self.noise_band = parameters.noise_band\n",
    "        self.optical_band = parameters.optical_band\n",
    "        self.set_ase_frequency()\n",
    "\n",
    "    def set_ase_frequency(self):\n",
    "        return np.arange(-self.optical_band / 2, self.optical_band / 2, self.noise_band) + parameters.Fc\n",
    "\n",
    "    def __len__(self):\n",
    "        return len(self.ase_frequency)"
   ]
  },
  {
   "attachments": {},
   "cell_type": "markdown",
   "metadata": {},
   "source": [
    "## EDFA class"
   ]
  },
  {
   "cell_type": "code",
   "execution_count": 30,
   "metadata": {},
   "outputs": [],
   "source": [
    "class edfa(edf):\n",
    "    def __init__(self, signal_opt, Fs, Fc, parameters):        \n",
    "        edf.__init__(self, parameters.edf)\n",
    "\n",
    "    def plot(self,type):\n",
    "        if type in ['coeff', 'cross']:\n",
    "            edf.plot(self,type)\n",
    "        elif (type=='inversion'):\n",
    "            x = np.linspace(0,2*np.pi,100)\n",
    "            y = np.sin(x)\n",
    "            plt.plot(x, y)\n",
    "        else:\n",
    "            raise TypeError(\"type invalid argument - ['coeff', 'cross'].\")"
   ]
  },
  {
   "attachments": {},
   "cell_type": "markdown",
   "metadata": {},
   "source": [
    "**Example**"
   ]
  },
  {
   "cell_type": "code",
   "execution_count": 31,
   "metadata": {},
   "outputs": [],
   "source": [
    "param_edfa = parameters()\n",
    "param_edfa.edf = param_edf\n",
    "edfa_obj = edfa(sigTxWDM, Fs, paramTx.Fc, param_edfa)"
   ]
  },
  {
   "cell_type": "code",
   "execution_count": 32,
   "metadata": {},
   "outputs": [
    {
     "data": {
      "text/plain": [
       "{'file': 'c:\\\\Users\\\\Adolfo\\\\Documents\\\\GitHub\\\\OptiCommPy\\\\optic\\\\ampParams\\\\giles_MP980.dat',\n",
       " 'type': 'coeff',\n",
       " 'wavelength': array([8.7500e-07, 8.7520e-07, 8.7540e-07, ..., 1.6496e-06, 1.6498e-06,\n",
       "        1.6500e-06]),\n",
       " 'absorption_coefficient': array([-0.00723702, -0.00245225, -0.00031315, ...,  0.01049223,\n",
       "         0.01041605,  0.01034018]),\n",
       " 'gain_coefficient': array([ 0.        ,  0.        ,  0.        , ..., -0.15138329,\n",
       "        -0.15222852, -0.15310121]),\n",
       " 'a': 1.56e-06,\n",
       " 'b': 1.56e-06,\n",
       " 'length': 8,\n",
       " 'rho': 9.55e+24,\n",
       " 'na': 0.22,\n",
       " 'geometric': 'Bessel',\n",
       " 'algorithm': 'Giles_spectrum',\n",
       " 'longitudinal_steps': 100,\n",
       " 'tal': 0.01,\n",
       " 'loss_signal': 0.00020800000000000001,\n",
       " 'loss_pump': 0.00020800000000000001,\n",
       " 'dr': 1.56e-08,\n",
       " 'r': array([0.0000e+00, 1.5600e-08, 3.1200e-08, 4.6800e-08, 6.2400e-08,\n",
       "        7.8000e-08, 9.3600e-08, 1.0920e-07, 1.2480e-07, 1.4040e-07,\n",
       "        1.5600e-07, 1.7160e-07, 1.8720e-07, 2.0280e-07, 2.1840e-07,\n",
       "        2.3400e-07, 2.4960e-07, 2.6520e-07, 2.8080e-07, 2.9640e-07,\n",
       "        3.1200e-07, 3.2760e-07, 3.4320e-07, 3.5880e-07, 3.7440e-07,\n",
       "        3.9000e-07, 4.0560e-07, 4.2120e-07, 4.3680e-07, 4.5240e-07,\n",
       "        4.6800e-07, 4.8360e-07, 4.9920e-07, 5.1480e-07, 5.3040e-07,\n",
       "        5.4600e-07, 5.6160e-07, 5.7720e-07, 5.9280e-07, 6.0840e-07,\n",
       "        6.2400e-07, 6.3960e-07, 6.5520e-07, 6.7080e-07, 6.8640e-07,\n",
       "        7.0200e-07, 7.1760e-07, 7.3320e-07, 7.4880e-07, 7.6440e-07,\n",
       "        7.8000e-07, 7.9560e-07, 8.1120e-07, 8.2680e-07, 8.4240e-07,\n",
       "        8.5800e-07, 8.7360e-07, 8.8920e-07, 9.0480e-07, 9.2040e-07,\n",
       "        9.3600e-07, 9.5160e-07, 9.6720e-07, 9.8280e-07, 9.9840e-07,\n",
       "        1.0140e-06, 1.0296e-06, 1.0452e-06, 1.0608e-06, 1.0764e-06,\n",
       "        1.0920e-06, 1.1076e-06, 1.1232e-06, 1.1388e-06, 1.1544e-06,\n",
       "        1.1700e-06, 1.1856e-06, 1.2012e-06, 1.2168e-06, 1.2324e-06,\n",
       "        1.2480e-06, 1.2636e-06, 1.2792e-06, 1.2948e-06, 1.3104e-06,\n",
       "        1.3260e-06, 1.3416e-06, 1.3572e-06, 1.3728e-06, 1.3884e-06,\n",
       "        1.4040e-06, 1.4196e-06, 1.4352e-06, 1.4508e-06, 1.4664e-06,\n",
       "        1.4820e-06, 1.4976e-06, 1.5132e-06, 1.5288e-06, 1.5444e-06]),\n",
       " 'V': array([2.4644448 , 2.46388162, 2.46331871, ..., 1.30721945, 1.30706098,\n",
       "        1.30690254]),\n",
       " 'u': array([1.68608811, 1.68595188, 1.68581565, ..., 1.20366552, 1.20355768,\n",
       "        1.20344986]),\n",
       " 'v': array([1.79738562, 1.7967412 , 1.79609706, ..., 0.50991372, 0.50976201,\n",
       "        0.50961034]),\n",
       " 'w_gauss': array([1.15886216e-06, 1.15899255e-06, 1.15912297e-06, ...,\n",
       "        2.01671965e-06, 2.01704602e-06, 2.01737245e-06]),\n",
       " 'gamma': array([0.97333035, 0.97330859, 0.97328682, ..., 0.69781257, 0.69769553,\n",
       "        0.69757848]),\n",
       " 'absorption_cross': array([-7.78567792e-28, -2.63822218e-28, -3.36907270e-29, ...,\n",
       "         1.57443818e-27,  1.56326860e-27,  1.55214345e-27]),\n",
       " 'emission_cross': array([ 0.00000000e+00,  0.00000000e+00,  0.00000000e+00, ...,\n",
       "        -2.27162044e-26, -2.28468699e-26, -2.29817011e-26])}"
      ]
     },
     "execution_count": 32,
     "metadata": {},
     "output_type": "execute_result"
    }
   ],
   "source": [
    "edfa_obj.__dict__"
   ]
  },
  {
   "cell_type": "code",
   "execution_count": 34,
   "metadata": {},
   "outputs": [
    {
     "data": {
      "image/png": "[encoded data removed]",
      "text/plain": [
       "<Figure size 432x288 with 1 Axes>"
      ]
     },
     "metadata": {
      "needs_background": "light"
     },
     "output_type": "display_data"
    }
   ],
   "source": [
    "edfa_obj.plot('inversion')"
   ]
  }
 ],
 "metadata": {
  "kernelspec": {
   "display_name": "Python 3",
   "language": "python",
   "name": "python3"
  },
  "language_info": {
   "codemirror_mode": {
    "name": "ipython",
    "version": 3
   },
   "file_extension": ".py",
   "mimetype": "text/x-python",
   "name": "python",
   "nbconvert_exporter": "python",
   "pygments_lexer": "ipython3",
   "version": "3.9.13"
  },
  "orig_nbformat": 4,
  "vscode": {
   "interpreter": {
    "hash": "fe6c4cde29b0c19359af5e8069e76466e74ec4aaceb024dd44afb17408094e36"
   }
  }
 },
 "nbformat": 4,
 "nbformat_minor": 2
}
