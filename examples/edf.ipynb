{
 "cells": [
  {
   "cell_type": "code",
   "execution_count": 1,
   "metadata": {},
   "outputs": [],
   "source": [
    "import os\n",
    "import numpy as np\n",
    "import matplotlib.pyplot as plt\n",
    "from scipy.constants import c\n",
    "\n",
    "from optic.core import parameters\n",
    "from optic.models import phaseNoise"
   ]
  },
  {
   "attachments": {},
   "cell_type": "markdown",
   "metadata": {},
   "source": [
    "## Giles class"
   ]
  },
  {
   "cell_type": "code",
   "execution_count": 2,
   "metadata": {},
   "outputs": [],
   "source": [
    "class giles:\n",
    "    def __init__(self, parameters):\n",
    "        self.file = getattr(parameters, \"file\", \"\")\n",
    "        if not (os.path.exists(self.file)):\n",
    "            raise TypeError(f\"{self.file} file doesn't exist.\")\n",
    "        self.type = getattr(parameters, \"type\", \"coeff\")\n",
    "        # set frequency\n",
    "        self.set_wavelength_from_file()\n",
    "        if (self.type=='coeff'):\n",
    "            self.set_coefficients_from_file()\n",
    "        elif (self.type=='cross'):\n",
    "            self.set_cross_section_from_file()\n",
    "        else:\n",
    "            raise TypeError(\"gile.type invalid argument - ['coeff', 'cross'].\")\n",
    "\n",
    "    def set_wavelength_from_file(self):\n",
    "        # Waiting wavelength in nm\n",
    "        self.wavelength = 1e-9*np.loadtxt(self.file)[:,0]\n",
    "    \n",
    "    def set_coefficients_from_file(self):\n",
    "        file_data = np.loadtxt(self.file)\n",
    "        self.absorption_coefficient  = 0.1 * np.log(10) * file_data[:,1]\n",
    "        self.gain_coefficient = 0.1 * np.log(10) * file_data[:,2]\n",
    "\n",
    "    def set_coefficients_from_cross_section(self, rho, gamma):\n",
    "        self.absorption_coefficient = self.absorption_cross * rho * gamma\n",
    "        self.gain_coefficient = self.emission_cross * rho * gamma\n",
    "\n",
    "    def set_cross_section_from_file(self):\n",
    "        file_data = np.loadtxt(self.file)\n",
    "        self.absorption_cross = file_data[:, 1]\n",
    "        self.emission_cross = file_data[:, 2]\n",
    "\n",
    "    def set_cross_section_from_coefficients(self, rho, gamma):\n",
    "         self.absorption_cross = self.absorption_coefficient / rho / gamma\n",
    "         self.emission_cross = self.gain_coefficient / rho / gamma\n",
    "\n",
    "    def plot(self,type):\n",
    "        if (type=='coeff'):\n",
    "            plt.plot(1e9*self.wavelength, self.absorption_coefficient, label='Abs. coeff.')\n",
    "            plt.plot(1e9*self.wavelength, self.gain_coefficient, label='Gain coeff.')\n",
    "            plt.ylabel('EDF coeff. [dB/m]')\n",
    "        elif (type=='cross'):\n",
    "            plt.plot(1e9*self.wavelength, 1e25*self.absorption_cross, label='Abs. cross-section')\n",
    "            plt.plot(1e9*self.wavelength, 1e25*self.emission_cross, label='Em. cross-section')\n",
    "            plt.ylabel(r'Cross-section [10$^{-25}$ m$^2$]')\n",
    "        else:\n",
    "            raise TypeError(\"type invalid argument - ['coeff', 'cross'].\")\n",
    "\n",
    "        plt.xlabel('Wavelenght [nm]')\n",
    "        plt.grid(True)\n",
    "        plt.legend()    "
   ]
  },
  {
   "attachments": {},
   "cell_type": "markdown",
   "metadata": {},
   "source": [
    "**Example**"
   ]
  },
  {
   "cell_type": "code",
   "execution_count": 3,
   "metadata": {},
   "outputs": [],
   "source": [
    "import os.path as path\n",
    "\n",
    "param_giles = parameters()\n",
    "param_giles.file = 'giles_MP980.dat'\n",
    "param_giles.file = path.join(path.abspath(path.join(\"../\")), 'optic', 'ampParams', param_giles.file)"
   ]
  },
  {
   "cell_type": "code",
   "execution_count": 4,
   "metadata": {},
   "outputs": [
    {
     "data": {
      "image/png": "[encoded data removed]",
      "text/plain": [
       "<Figure size 432x288 with 1 Axes>"
      ]
     },
     "metadata": {
      "needs_background": "light"
     },
     "output_type": "display_data"
    }
   ],
   "source": [
    "edf_giles = giles(param_giles)\n",
    "edf_giles.plot('coeff')"
   ]
  },
  {
   "attachments": {},
   "cell_type": "markdown",
   "metadata": {},
   "source": [
    "## EDF Class"
   ]
  },
  {
   "cell_type": "code",
   "execution_count": 5,
   "metadata": {},
   "outputs": [],
   "source": [
    "from scipy.special import jv, kv\n",
    "class edf(giles):\n",
    "    def __init__(self,parameter):\n",
    "        # init giles parameters\n",
    "        super().__init__(parameter.giles)\n",
    "        # init geometric and material parameters\n",
    "        self.a = getattr(parameter, \"a\", 1.56e-6)\n",
    "        self.b = getattr(parameter, \"b\", 1.56e-6)\n",
    "        self.length = getattr(parameter, \"length\", 8)\n",
    "        self.rho = getattr(parameter, \"rho\", 0.955e25)\n",
    "        self.na = getattr(parameter, \"na\", 0.22)\n",
    "        # init algorithm parameters\n",
    "        self.geometric = getattr(parameter, \"geometric\", \"Bessel\")\n",
    "        self.algorithm = getattr(parameter, \"algorithm\", \"Giles_spectrum\")\n",
    "        self.longitudinal_steps = getattr(parameter, \"longitudinal_steps\", 100)\n",
    "        # init physical paramters\n",
    "        self.tal = getattr(parameter, \"tal\", 10e-3)\n",
    "        # init signal and pump loss paramters\n",
    "        self.loss_signal = getattr(parameter, \"loss_signal\", 2.08 * 0.0001 * np.log10(10))\n",
    "        self.loss_pump = getattr(parameter, \"loss_pump\", 2.08 * 0.0001 * np.log10(10))\n",
    "\n",
    "        if self.algorithm not in (\n",
    "        \"Giles_spatial\",\n",
    "        \"Giles_spectrum\",\n",
    "        \"Saleh\",\n",
    "        \"Jopson\",\n",
    "        \"Inhomogeneous\",\n",
    "        ):\n",
    "            raise TypeError(\n",
    "                \"edfaSM.algo invalid argument - [Giles_spatial, Giles_spectrum, Saleh, Jopson, Inhomogeneous].\"\n",
    "                )\n",
    "\n",
    "        self.set_radius()\n",
    "        self.set_modal_parameters()\n",
    "        if (self.geometric != 'LP01'):\n",
    "            self.set_mode_radius()\n",
    "        self.set_gamma()\n",
    "        try:\n",
    "            self.set_cross_section_from_coefficients(self.rho, self.gamma)\n",
    "        except Exception:\n",
    "            self.set_coefficients_from_cross_section(self.rho, self.gamma)\n",
    "        if (self.algorithm == 'Giles_spatial'):\n",
    "            self.set_ik()\n",
    "\n",
    "\n",
    "    def set_radius(self):\n",
    "        # Logitudinal step\n",
    "        self.dr = self.a / self.longitudinal_steps\n",
    "        self.r  = np.arange(0, self.a, self.dr)\n",
    "\n",
    "    def set_modal_parameters(self):\n",
    "        self.V = (2 * np.pi / self.wavelength) * self.a * self.na\n",
    "        # u and v calculation for LP01 and Bessel profiles\n",
    "        self.u = ((1 + np.sqrt(2)) * self.V) / (1 + (4 + self.V ** 4) ** 0.25)\n",
    "        self.v = np.sqrt(self.V ** 2 - self.u ** 2)\n",
    "\n",
    "    def set_mode_radius(self):\n",
    "        if self.geometric == \"Bessel\":\n",
    "            self.w_gauss = self.a * self.V / self.u * kv(1, self.v) / kv(0, self.v) * jv(0, self.u)\n",
    "        elif self.geometric == \"Marcuse\":\n",
    "            self.w_gauss = self.a * (0.650 + 1.619 / self.V ** 1.5 + 2.879 / self.V ** 6)\n",
    "        elif self.geometric == \"Whitley\":\n",
    "            self.w_gauss = self.a * (0.616 + 1.660 / self.V ** 1.5 + 0.987 / self.V ** 6)\n",
    "        elif self.geometric == \"Desurvire\":\n",
    "            self.w_gauss = self.a * (0.759 + 1.289 / self.V ** 1.5 + 1.041 / self.V ** 6)\n",
    "        elif self.geometric == \"Myslinski\":\n",
    "            self.w_gauss = self.a * (0.761 + 1.237 / self.V ** 1.5 + 1.429 / self.V ** 6)\n",
    "        else:\n",
    "            raise TypeError(\n",
    "            \"model invalid argument - [LP01 - Marcuse - Whitley - Desurvire - Myslinski - Bessel].\"\n",
    "            )\n",
    "    \n",
    "    def set_gamma(self):\n",
    "        if (self.geometric == 'LP01'):\n",
    "            self.gamma = (((self.v * self.b) / (self.a * self.V * jv(1, self.u))) ** 2) * (jv(0, self.u * self.b / self.a) ** 2 + jv(1, self.u * self.b / self.a) ** 2)\n",
    "        else:\n",
    "            self.gamma = 1 - np.exp(-2 * (self.b / self.w_gauss) ** 2)\n",
    "\n",
    "    # Call only if self.algorithm == \"Giles_spatial\"\n",
    "    def set_ik(self):\n",
    "        if (self.geometric == 'LP01'):\n",
    "            i_k = (lambda r: 1/np.pi*(self.v/(self.a*self.V)*jv(0, self.u*self.r/self.a)/jv(1, self.u))**2)\n",
    "        else:\n",
    "            i_k = lambda r: 2 / (np.pi * self.w_gauss ** 2) * np.exp(-2 * (self.r / self.w_gauss) ** 2)\n",
    "        self.i_k = [i_k(x) for x in self.r]"
   ]
  },
  {
   "attachments": {},
   "cell_type": "markdown",
   "metadata": {},
   "source": [
    "**Example**"
   ]
  },
  {
   "cell_type": "code",
   "execution_count": 6,
   "metadata": {},
   "outputs": [
    {
     "data": {
      "image/png": "[encoded data removed]",
      "text/plain": [
       "<Figure size 432x288 with 1 Axes>"
      ]
     },
     "metadata": {
      "needs_background": "light"
     },
     "output_type": "display_data"
    }
   ],
   "source": [
    "param_edf = parameters()\n",
    "param_edf.giles = param_giles\n",
    "edf_fiber = edf(param_edf)\n",
    "edf_fiber.plot('coeff')"
   ]
  },
  {
   "cell_type": "code",
   "execution_count": 7,
   "metadata": {},
   "outputs": [
    {
     "data": {
      "image/png": "[encoded data removed]",
      "text/plain": [
       "<Figure size 432x288 with 1 Axes>"
      ]
     },
     "metadata": {
      "needs_background": "light"
     },
     "output_type": "display_data"
    }
   ],
   "source": [
    "edf_fiber.plot('cross')"
   ]
  },
  {
   "cell_type": "code",
   "execution_count": 8,
   "metadata": {},
   "outputs": [
    {
     "data": {
      "image/png": "[encoded data removed]",
      "text/plain": [
       "<Figure size 864x432 with 2 Axes>"
      ]
     },
     "metadata": {
      "needs_background": "light"
     },
     "output_type": "display_data"
    }
   ],
   "source": [
    "fig, ax = plt.subplots(1,2,figsize=(12,6))\n",
    "ax[0].plot(1e9*edf_fiber.wavelength, edf_fiber.V, '.')\n",
    "ax[0].set_xlabel('Wavelength [nm]')\n",
    "ax[0].set_ylabel(r'Norm. frequency - $V$')\n",
    "ax[0].grid(True)\n",
    "\n",
    "ax[1].plot(1e9*edf_fiber.wavelength, edf_fiber.u, '.', label = r'modal $u$')\n",
    "ax[1].plot(1e9*edf_fiber.wavelength, edf_fiber.v, '.', label = r'modal $v$')\n",
    "ax[1].set_xlabel('Wavelength [nm]')\n",
    "ax[1].set_ylabel('Modal paramter')\n",
    "ax[1].grid(True)"
   ]
  },
  {
   "cell_type": "code",
   "execution_count": 9,
   "metadata": {},
   "outputs": [
    {
     "data": {
      "image/png": "[encoded data removed]",
      "text/plain": [
       "<Figure size 864x432 with 2 Axes>"
      ]
     },
     "metadata": {
      "needs_background": "light"
     },
     "output_type": "display_data"
    }
   ],
   "source": [
    "fig, ax = plt.subplots(1,2,figsize=(12,6))\n",
    "ax[0].plot(1e9*edf_fiber.wavelength, 1e6*edf_fiber.w_gauss, '.')\n",
    "ax[0].set_xlabel('Wavelength [nm]')\n",
    "ax[0].set_ylabel('Modal radius [um]')\n",
    "ax[0].grid(True)\n",
    "\n",
    "ax[1].plot(1e9*edf_fiber.wavelength, edf_fiber.gamma, '.')\n",
    "ax[1].set_xlabel('Wavelength [nm]')\n",
    "ax[1].set_ylabel('Gamma')\n",
    "ax[1].grid(True)"
   ]
  },
  {
   "attachments": {},
   "cell_type": "markdown",
   "metadata": {},
   "source": [
    "## Signal class"
   ]
  },
  {
   "cell_type": "code",
   "execution_count": 10,
   "metadata": {},
   "outputs": [],
   "source": [
    "from numpy.fft import fft, ifft, fftfreq\n",
    "\n",
    "class signal():\n",
    "    def __init__(self, signal, Fs:float, Fc:float):\n",
    "        self.Fs = Fs\n",
    "        self.Fc = Fc\n",
    "        _,self.isy = np.shape(signal)\n",
    "        if (self.isy==1):\n",
    "            signal = np.concatenate((signal, np.zeros(np.shape(signal))), axis=1)\n",
    "            self.isy+=1\n",
    "        self.set_frequency(signal)      \n",
    "        self.set_spectrum(signal)\n",
    "\n",
    "    def set_frequency(self, signal):\n",
    "        self.frequency = self.Fs * fftfreq(len(signal)) + self.Fc\n",
    "    \n",
    "    def set_spectrum(self, signal):\n",
    "        self.spectrum = fft(signal, axis = 0)\n",
    "\n",
    "    def get_frequency_hz(self):\n",
    "        return self.frequency\n",
    "    \n",
    "    def get_frequency_m(self):\n",
    "        return c/self.frequency\n",
    "    \n",
    "    def get_spectrum_w(self):\n",
    "        return np.reshape(\n",
    "            np.abs(self.spectrum / len(self.frequency)) ** 2, \n",
    "            (self.isy * len(self.frequency)), order=\"F\"\n",
    "        ) \n",
    "    \n",
    "    def get_spectrum_dBm(self):\n",
    "        return 10*np.log10(1e3*self.get_spectrum_w())\n",
    "\n",
    "    def plot(self):\n",
    "        plt.plot(1e9*self.get_frequency_m(), \n",
    "                 self.get_spectrum_dBm()[:len(self)],\n",
    "                 label = 'Pol. X',\n",
    "                 lw = 2,\n",
    "                 )\n",
    "        plt.plot(1e9*self.get_frequency_m(), \n",
    "                 self.get_spectrum_dBm()[len(self):],\n",
    "                 label = 'Pol. Y',\n",
    "                 lw = 2,\n",
    "                 alpha=0.5,\n",
    "                 )\n",
    "        plt.xlabel('Wavelength [nm]')\n",
    "        plt.ylabel('Power [dBm]')\n",
    "        plt.legend()\n",
    "        plt.grid(True)\n",
    "\n",
    "    def __len__(self) -> int:\n",
    "        return len(self.frequency)"
   ]
  },
  {
   "attachments": {},
   "cell_type": "markdown",
   "metadata": {},
   "source": [
    "**Example**"
   ]
  },
  {
   "cell_type": "code",
   "execution_count": 11,
   "metadata": {},
   "outputs": [],
   "source": [
    "# Transmitter parameters:\n",
    "paramTx = parameters()\n",
    "paramTx.NSb = 2**10          # number os symbols\n",
    "paramTx.SpS = 256            # samples per symbol\n",
    "paramTx.Rs  = 30e9           # symbol rate\n",
    "paramTx.lw  = 1e6            # laser linewidth\n",
    "paramTx.Nch = 2              # number of channels\n",
    "paramTx.Nmodes   = 1         # number of modes\n",
    "paramTx.Pch_dBm  = -40       # channel power\n",
    "paramTx.freqSpac = 2.5e12    # channel bandwith\n",
    "paramTx.Fc       = c/1540e-9 # central frequency"
   ]
  },
  {
   "cell_type": "code",
   "execution_count": 12,
   "metadata": {},
   "outputs": [],
   "source": [
    "# CW signal with two optical channels: 1530 and 1550 nm.\n",
    "t = np.arange(0, paramTx.NSb * paramTx.SpS)\n",
    "Fs = paramTx.Rs*paramTx.SpS\n",
    "\n",
    "# central frequencies of the WDM channels\n",
    "freqGrid = (\n",
    "    np.arange(-np.floor(paramTx.Nch / 2), np.floor(paramTx.Nch / 2) + 1, 1)\n",
    "    * paramTx.freqSpac\n",
    ")\n",
    "if (paramTx.Nch % 2) == 0:\n",
    "    freqGrid += paramTx.freqSpac / 2\n",
    "# linear power\n",
    "power_lin = 10**((paramTx.Pch_dBm)/10 - 3)\n",
    "# comb generation\n",
    "sigTxWDM = np.zeros((len(t), paramTx.Nmodes), dtype=\"complex\")\n",
    "for indCh in range(paramTx.Nch):\n",
    "    for indMode in range(paramTx.Nmodes):\n",
    "        pho_pn_lo = phaseNoise(paramTx.lw, len(t), 1/Fs)\n",
    "        sigLO   = np.sqrt(power_lin)*np.exp(1j*pho_pn_lo)\n",
    "        sigTxWDM[:, indMode] += sigLO * np.exp(1j * 2 * np.pi * (freqGrid[indCh] / Fs) * t)"
   ]
  },
  {
   "cell_type": "code",
   "execution_count": 13,
   "metadata": {},
   "outputs": [
    {
     "name": "stderr",
     "output_type": "stream",
     "text": [
      "C:\\Users\\Adolfo\\AppData\\Local\\Temp\\ipykernel_1132\\1360280182.py:33: RuntimeWarning: divide by zero encountered in log10\n",
      "  return 10*np.log10(1e3*self.get_spectrum_w())\n"
     ]
    },
    {
     "data": {
      "image/png": "[encoded data removed]",
      "text/plain": [
       "<Figure size 432x288 with 1 Axes>"
      ]
     },
     "metadata": {
      "needs_background": "light"
     },
     "output_type": "display_data"
    }
   ],
   "source": [
    "signal_tx = signal(sigTxWDM, Fs, paramTx.Fc)\n",
    "signal_tx.plot()"
   ]
  },
  {
   "attachments": {},
   "cell_type": "markdown",
   "metadata": {},
   "source": [
    "## Pump class"
   ]
  },
  {
   "cell_type": "code",
   "execution_count": 14,
   "metadata": {},
   "outputs": [],
   "source": [
    "class pump():\n",
    "    def __init__(self, parameter):\n",
    "        # pump parameters\n",
    "        self.direction = getattr(parameter, 'direction', 'forward')\n",
    "        self.pump_power = getattr(parameter, 'power', np.array([100e-3]))\n",
    "        self.pump_frequency = c/getattr(parameter, 'wavelength', np.array([980e-9]))\n",
    "        if (len(self.pump_power)!=len(self.pump_frequency)):\n",
    "            raise TypeError(\"pump object: invalid length.\")\n",
    "        \n",
    "    def __len__(self) -> int:\n",
    "        return len(self.pump_frequency)\n",
    "    \n",
    "    def __str__(self) -> str:\n",
    "        return f'\\n## Pump\\ntype: {self.direction} \\npower {self.pump_power} W\\nfrequency {self.pump_frequency} Hz\\nwavelength {c/self.pump_frequency} m'"
   ]
  },
  {
   "attachments": {},
   "cell_type": "markdown",
   "metadata": {},
   "source": [
    "**Example**"
   ]
  },
  {
   "cell_type": "code",
   "execution_count": 15,
   "metadata": {},
   "outputs": [
    {
     "name": "stdout",
     "output_type": "stream",
     "text": [
      "\n",
      "## Pump\n",
      "type: forward \n",
      "power [0.1] W\n",
      "frequency [3.05910671e+14] Hz\n",
      "wavelength [9.8e-07] m\n"
     ]
    }
   ],
   "source": [
    "forward_pump = parameters()\n",
    "pumpF = pump(forward_pump)\n",
    "print(pumpF)"
   ]
  },
  {
   "cell_type": "code",
   "execution_count": 16,
   "metadata": {},
   "outputs": [
    {
     "name": "stdout",
     "output_type": "stream",
     "text": [
      "\n",
      "## Pump\n",
      "type: forward \n",
      "power [0.1  0.15] W\n",
      "frequency [3.05910671e+14 3.07164404e+14] Hz\n",
      "wavelength [9.80e-07 9.76e-07] m\n"
     ]
    }
   ],
   "source": [
    "forward_pump = parameters()\n",
    "forward_pump.power = np.array([100e-3, 150e-3])\n",
    "forward_pump.wavelength = np.array([980e-9, 976e-9])\n",
    "pumpF = pump(forward_pump)\n",
    "print(pumpF)"
   ]
  },
  {
   "cell_type": "code",
   "execution_count": 17,
   "metadata": {},
   "outputs": [
    {
     "name": "stdout",
     "output_type": "stream",
     "text": [
      "\n",
      "## Pump\n",
      "type: backward \n",
      "power [0.1] W\n",
      "frequency [3.05910671e+14] Hz\n",
      "wavelength [9.8e-07] m\n"
     ]
    }
   ],
   "source": [
    "backward_pump = parameters()\n",
    "backward_pump.direction = 'backward'\n",
    "pumpB = pump(backward_pump)\n",
    "print(pumpB)"
   ]
  },
  {
   "attachments": {},
   "cell_type": "markdown",
   "metadata": {},
   "source": [
    "## Control class"
   ]
  },
  {
   "cell_type": "code",
   "execution_count": 18,
   "metadata": {},
   "outputs": [],
   "source": [
    "class control():\n",
    "    def __init__(self, parameter):\n",
    "        # controller parameters\n",
    "        self.kp = getattr(parameter, \"kp\", 1e-2)\n",
    "        self.ki = getattr(parameter, \"ki\", 1e-2)\n",
    "        self.kd = getattr(parameter, \"kd\", 5e-2)\n",
    "        # setpoint and control type\n",
    "        self.mode = getattr(parameter, \"mode\", \"AGC\")\n",
    "        if self.mode in {\"AGC\", \"APC\", \"none\"}:\n",
    "            self.setpoint = getattr(parameter, \"setpoint\", 20)  # dB (for gain) and dBm (for power)\n",
    "        else:\n",
    "            raise TypeError(\"control.type invalid argument - [AGC, APC, none].\")\n",
    "        \n",
    "    def __str__(self)->str:\n",
    "        return f'\\n## Control\\nmode: {self.mode}\\nset-point: {self.setpoint}\\nkp parameter: {self.kp}\\nkd parameter: {self.kd}\\nki parameter: {self.ki}'"
   ]
  },
  {
   "attachments": {},
   "cell_type": "markdown",
   "metadata": {},
   "source": [
    "**Example**"
   ]
  },
  {
   "cell_type": "code",
   "execution_count": 19,
   "metadata": {},
   "outputs": [
    {
     "name": "stdout",
     "output_type": "stream",
     "text": [
      "\n",
      "## Control\n",
      "mode: AGC\n",
      "set-point: 20\n",
      "kp parameter: 0.01\n",
      "kd parameter: 0.05\n",
      "ki parameter: 0.01\n"
     ]
    }
   ],
   "source": [
    "control_parameters = parameters()\n",
    "control_obj = control(control_parameters)\n",
    "print(control_obj)"
   ]
  },
  {
   "attachments": {},
   "cell_type": "markdown",
   "metadata": {},
   "source": [
    "## Solver class"
   ]
  },
  {
   "cell_type": "code",
   "execution_count": 20,
   "metadata": {},
   "outputs": [],
   "source": [
    "class solver():\n",
    "    def __init__(self, parameter):\n",
    "        # solver error\n",
    "        self.tol = getattr(parameter, \"tol\", 2 / 100)\n",
    "        self.tolCtrl = getattr(parameter, \"tolCtrl\", 0.5)     \n",
    "\n",
    "    def __str__(self)->str:\n",
    "        return f'\\n## Solver\\ntol: {self.tol}\\ntolCtrl: {self.tolCtrl}'"
   ]
  },
  {
   "attachments": {},
   "cell_type": "markdown",
   "metadata": {},
   "source": [
    "**Example**"
   ]
  },
  {
   "cell_type": "code",
   "execution_count": 21,
   "metadata": {},
   "outputs": [
    {
     "name": "stdout",
     "output_type": "stream",
     "text": [
      "\n",
      "## Solver\n",
      "tol: 0.02\n",
      "tolCtrl: 0.5\n"
     ]
    }
   ],
   "source": [
    "solver_parameters= parameters()\n",
    "solver_obj = solver(solver_parameters)\n",
    "print(solver_obj)"
   ]
  },
  {
   "attachments": {},
   "cell_type": "markdown",
   "metadata": {},
   "source": [
    "## Noise class"
   ]
  },
  {
   "cell_type": "code",
   "execution_count": 25,
   "metadata": {},
   "outputs": [],
   "source": [
    "class noise():\n",
    "    def __init__(self, parameters):\n",
    "        self.noise_band = parameters.noise_band\n",
    "        self.optical_band = parameters.optical_band\n",
    "        self.set_ase_frequency()\n",
    "\n",
    "    def set_ase_frequency(self):\n",
    "        return np.arange(-self.optical_band / 2, self.optical_band / 2, self.noise_band) + parameters.Fc\n",
    "\n",
    "    def __len__(self):\n",
    "        return len(self.ase_frequency)"
   ]
  },
  {
   "attachments": {},
   "cell_type": "markdown",
   "metadata": {},
   "source": [
    "## EDFA class"
   ]
  },
  {
   "cell_type": "code",
   "execution_count": 26,
   "metadata": {},
   "outputs": [],
   "source": [
    "class edfa(signal, edf, pump, control, solver, noise):\n",
    "    def __init__(self, signal_opt, Fs, Fc, parameters):        \n",
    "        signal.__init__(self, signal_opt, Fs, Fc)\n",
    "        edf.__init__(self, parameters.edf)\n",
    "        \n",
    "        pump.__init__(self, parameters.pump)\n",
    "        control.__init__(self, parameters.control)\n",
    "        solver.__init__(self, parameters.solver)\n",
    "        \n",
    "        noise.__init__(self, parameters.noise)\n",
    "        optical_band = self.frequency.max() - self.frequency.min()\n",
    "        noise.set_ase_frequency(optical_band, Fc)\n",
    "        print(noise.__len__(self))\n",
    "\n",
    "    def __str__(self)->str:\n",
    "        return pump.__str__(self) + control.__str__(self) + solver.__str__(self)"
   ]
  },
  {
   "attachments": {},
   "cell_type": "markdown",
   "metadata": {},
   "source": [
    "**Example**"
   ]
  },
  {
   "cell_type": "code",
   "execution_count": 27,
   "metadata": {},
   "outputs": [
    {
     "ename": "TypeError",
     "evalue": "set_ase_frequency() takes 1 positional argument but 3 were given",
     "output_type": "error",
     "traceback": [
      "\u001b[1;31m---------------------------------------------------------------------------\u001b[0m",
      "\u001b[1;31mTypeError\u001b[0m                                 Traceback (most recent call last)",
      "\u001b[1;32mc:\\Users\\Adolfo\\Documents\\GitHub\\OptiCommPy\\examples\\edf.ipynb Cell 39\u001b[0m in \u001b[0;36m<cell line: 7>\u001b[1;34m()\u001b[0m\n\u001b[0;32m      <a href='vscode-notebook-cell:/c%3A/Users/Adolfo/Documents/GitHub/OptiCommPy/examples/edf.ipynb#X43sZmlsZQ%3D%3D?line=4'>5</a>\u001b[0m param_edfa\u001b[39m.\u001b[39msolver \u001b[39m=\u001b[39m parameters()\n\u001b[0;32m      <a href='vscode-notebook-cell:/c%3A/Users/Adolfo/Documents/GitHub/OptiCommPy/examples/edf.ipynb#X43sZmlsZQ%3D%3D?line=5'>6</a>\u001b[0m param_edfa\u001b[39m.\u001b[39mnoise \u001b[39m=\u001b[39m parameters()\n\u001b[1;32m----> <a href='vscode-notebook-cell:/c%3A/Users/Adolfo/Documents/GitHub/OptiCommPy/examples/edf.ipynb#X43sZmlsZQ%3D%3D?line=6'>7</a>\u001b[0m edfa_obj \u001b[39m=\u001b[39m edfa(sigTxWDM, Fs, paramTx\u001b[39m.\u001b[39;49mFc, param_edfa)\n\u001b[0;32m      <a href='vscode-notebook-cell:/c%3A/Users/Adolfo/Documents/GitHub/OptiCommPy/examples/edf.ipynb#X43sZmlsZQ%3D%3D?line=7'>8</a>\u001b[0m \u001b[39mprint\u001b[39m(edfa_obj)\n",
      "\u001b[1;32mc:\\Users\\Adolfo\\Documents\\GitHub\\OptiCommPy\\examples\\edf.ipynb Cell 39\u001b[0m in \u001b[0;36medfa.__init__\u001b[1;34m(self, signal_opt, Fs, Fc, parameters)\u001b[0m\n\u001b[0;32m      <a href='vscode-notebook-cell:/c%3A/Users/Adolfo/Documents/GitHub/OptiCommPy/examples/edf.ipynb#X43sZmlsZQ%3D%3D?line=6'>7</a>\u001b[0m solver\u001b[39m.\u001b[39m\u001b[39m__init__\u001b[39m(\u001b[39mself\u001b[39m, parameters\u001b[39m.\u001b[39msolver)\n\u001b[0;32m      <a href='vscode-notebook-cell:/c%3A/Users/Adolfo/Documents/GitHub/OptiCommPy/examples/edf.ipynb#X43sZmlsZQ%3D%3D?line=8'>9</a>\u001b[0m optical_band \u001b[39m=\u001b[39m \u001b[39mself\u001b[39m\u001b[39m.\u001b[39mfrequency\u001b[39m.\u001b[39mmax() \u001b[39m-\u001b[39m \u001b[39mself\u001b[39m\u001b[39m.\u001b[39mfrequency\u001b[39m.\u001b[39mmin()\n\u001b[1;32m---> <a href='vscode-notebook-cell:/c%3A/Users/Adolfo/Documents/GitHub/OptiCommPy/examples/edf.ipynb#X43sZmlsZQ%3D%3D?line=9'>10</a>\u001b[0m \u001b[39mself\u001b[39;49m\u001b[39m.\u001b[39;49mset_ase_frequency(optical_band, Fc)\n\u001b[0;32m     <a href='vscode-notebook-cell:/c%3A/Users/Adolfo/Documents/GitHub/OptiCommPy/examples/edf.ipynb#X43sZmlsZQ%3D%3D?line=10'>11</a>\u001b[0m \u001b[39mprint\u001b[39m(noise\u001b[39m.\u001b[39m\u001b[39m__len__\u001b[39m(\u001b[39mself\u001b[39m))\n",
      "\u001b[1;31mTypeError\u001b[0m: set_ase_frequency() takes 1 positional argument but 3 were given"
     ]
    }
   ],
   "source": [
    "param_edfa = parameters()\n",
    "param_edfa.edf = param_edf\n",
    "param_edfa.pump = parameters()\n",
    "param_edfa.control = parameters()\n",
    "param_edfa.solver = parameters()\n",
    "param_edfa.noise = parameters()\n",
    "edfa_obj = edfa(sigTxWDM, Fs, paramTx.Fc, param_edfa)\n",
    "print(edfa_obj)"
   ]
  },
  {
   "cell_type": "code",
   "execution_count": null,
   "metadata": {},
   "outputs": [
    {
     "data": {
      "text/plain": [
       "array([1.94670427e+14, 1.94670457e+14, 1.94670486e+14, ...,\n",
       "       1.94670339e+14, 1.94670369e+14, 1.94670398e+14])"
      ]
     },
     "execution_count": 196,
     "metadata": {},
     "output_type": "execute_result"
    }
   ],
   "source": [
    "edfa_obj.frequency"
   ]
  }
 ],
 "metadata": {
  "kernelspec": {
   "display_name": "Python 3",
   "language": "python",
   "name": "python3"
  },
  "language_info": {
   "codemirror_mode": {
    "name": "ipython",
    "version": 3
   },
   "file_extension": ".py",
   "mimetype": "text/x-python",
   "name": "python",
   "nbconvert_exporter": "python",
   "pygments_lexer": "ipython3",
   "version": "3.9.13"
  },
  "orig_nbformat": 4,
  "vscode": {
   "interpreter": {
    "hash": "fe6c4cde29b0c19359af5e8069e76466e74ec4aaceb024dd44afb17408094e36"
   }
  }
 },
 "nbformat": 4,
 "nbformat_minor": 2
}
